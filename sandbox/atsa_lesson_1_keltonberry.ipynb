{
  "nbformat": 4,
  "nbformat_minor": 0,
  "metadata": {
    "colab": {
      "name": "atsa_lesson-1-sc.ipynb",
      "provenance": [],
      "collapsed_sections": [],
      "toc_visible": true
    },
    "kernelspec": {
      "name": "ir",
      "display_name": "R"
    }
  },
  "cells": [
    {
      "cell_type": "markdown",
      "metadata": {
        "id": "lqkahV4uX8Rp"
      },
      "source": [
        "# Applied Time Series Analysis: Course Notebook - Student Copy\n",
        "\n",
        "Tyler W. Davis, PhD \n",
        "\n",
        "Data Science @ William & Mary\n",
        "\n",
        "* last edited: 2021-02-03\n",
        "* website: https://ds-wm.github.io/course/atsa/\n",
        "* licence: CC-BY-NC\n",
        "\n",
        "Parts of this book come from [The R Book][therbook], 1st edition by Crawley (2007) and [Applied Time Series Analysis with R][woodward17], 2nd edition by Woodward et al. (2017).\n",
        "\n",
        "[therbook]: https://archive.org/details/TheRBook_Crawley\n",
        "[woodward17]: https://wm.primo.exlibrisgroup.com/permalink/01COWM_INST/1tc7lat/alma991033373629903196\n",
        "\n",
        "***"
      ]
    },
    {
      "cell_type": "markdown",
      "metadata": {
        "id": "CE8-2ueSYDWW"
      },
      "source": [
        "## 0. Front Matter \n",
        "> Note the use of $\\underline{\\qquad}$ for missing vocabulary terms.\n",
        "\n",
        "### 0.1 Introduction to R\n",
        "To support our computations of time series data and the plotting and analysis, we will be using [R](https://cran.r-project.org/), an a freely available language and environment for statistical computing and graphics.\n",
        "\n",
        "> R is a high-level language and an environment for data analysis and graphics. \n",
        "> The design of R was heavily influenced by two existing languages: [Becker, Chambers and Wilks' S][sprog] and [Sussman's Scheme][schemeprog]. \n",
        "> The resulting language is very similar in appearance to S, but the under-lying implementation and semantics are derived from Scheme.\n",
        ">\n",
        "> -- M.J. Crawley (2006)\n",
        "\n",
        "Why should you bother to learn R?\n",
        "\n",
        "1. take advantage of its unrivalled coverage and the availability of new, cutting edge applications in fields such as generalized mixed-\n",
        "effects modelling and generalized additive models;\n",
        "2. understand the literature: more and more people are reporting their results in the context of R, and it is important to know what they are talking about;\n",
        "3. a large proportion of the world's leading statisticians use R, and this should tell you something;\n",
        "4. there is a quality of back-up and support available, including a superb network of dedicated R wizards out there on the web, eager to answer your questions;\n",
        "5. if you intend to invest sufficient effort to become good at statistical computing, then the structure of R and the ease with which you can write your own functions are major attractions;\n",
        "6. the product is free: this is some of the finest integrated software in the world, and yet it is yours for absolutely nothing.\n",
        "\n",
        "[sprog]: https://en.wikipedia.org/wiki/S_(programming_language)\n",
        "[schemeprog]: https://en.wikipedia.org/wiki/Scheme_(programming_language)\n"
      ]
    },
    {
      "cell_type": "markdown",
      "metadata": {
        "id": "Zzq6YX0GCkEl"
      },
      "source": [
        "### 0.2 The Jupyter Notebook\n",
        "This document is a [Jupyter Notebook](https://jupyter.org/) and provides us with a cloud-based computation environment. \n",
        "Notice the \"Connect\" in the top-right corner of this webpage.\n",
        "This allows you to access a Linux $\\underline{\\qquad}$ with a particular $\\underline{\\qquad}$ loaded.\n",
        "In our case, the kernel is providing us with some basic computation software.\n",
        "\n",
        "Click \"Connect\" to start your runtime.\n",
        "\n",
        "You should get a green checkmark with allocated random access memory (RAM) and disk drive space.\n",
        "Note that these resources are emphemeral&mdash;they dissappear when the runtime ends.\n",
        "\n",
        "> Be cautious of saving files in this environment.\n",
        "> You should, in all cases, keep a copy of data files somewhere else (e.g., on your local computer or cloud drive).\n",
        "\n",
        "Click on Runtime `-->` \"Change runntime type\" in the menu.\n",
        "You'll see that we are in an R-based runtime.\n",
        "Cancel out of the window."
      ]
    },
    {
      "cell_type": "markdown",
      "metadata": {
        "id": "JKFH4Sy-b3i8"
      },
      "source": [
        "### 0.3 The R Runtime\n",
        "Let's see what version of R we are running.\n",
        "A quick way of accessing this information is to call the `sessionInfo` function.\n",
        "\n",
        "To do access the runtime, we use code cells (in opposition of the text cells used to type this content).\n",
        "\n",
        "You can create a code cell by hovering your mouse between two cells and clicking \"+ Code\" or clicking the \"+ Code\" in the menu bar above.\n",
        "There are also shortcut keys.\n",
        "Check them out in \"Tools\" `-->` \"Keyboard shortcuts\" in the menu above."
      ]
    },
    {
      "cell_type": "code",
      "metadata": {
        "id": "vFgx840-cjFQ"
      },
      "source": [
        "sessionInfo()"
      ],
      "execution_count": null,
      "outputs": []
    },
    {
      "cell_type": "markdown",
      "metadata": {
        "id": "UbvcR58DcvJ-"
      },
      "source": [
        "One benefit of the cloud-based environment is that there are several packages (i.e., libraries that extend the base R language) already installed and waiting for us to use.\n",
        "\n",
        "To see the list of installed packages, the aptly named `installed.packages` function is available."
      ]
    },
    {
      "cell_type": "code",
      "metadata": {
        "id": "OLgc6b4-c5SF"
      },
      "source": [
        "installed.packages()"
      ],
      "execution_count": null,
      "outputs": []
    },
    {
      "cell_type": "markdown",
      "metadata": {
        "id": "-_pKZHsHeBeh"
      },
      "source": [
        "For any packages that exist, you may add them to your runtime by calling them by name with the `library` function.\n",
        "\n",
        "Try adding some libraries to this runtime."
      ]
    },
    {
      "cell_type": "code",
      "metadata": {
        "id": "iN-9NLKXePk2"
      },
      "source": [
        "library(\"curl\")"
      ],
      "execution_count": null,
      "outputs": []
    },
    {
      "cell_type": "markdown",
      "metadata": {
        "id": "8Pw0Pag3exB_"
      },
      "source": [
        "You can see the version of this package by running the `sessionInfo` function again.\n",
        "\n",
        "Rather than call it again below, go back to your earlier code cell and re-run it there.\n",
        "Notice that the runtime counter increments each time a cell is executed.\n",
        "\n",
        "What version of `curl` is available?\n",
        "(Yes, I know it is also listed in the installed packages table.)"
      ]
    },
    {
      "cell_type": "markdown",
      "metadata": {
        "id": "W7y7XTXWfV-M"
      },
      "source": [
        "If a package you want is not available, then you simply ask the program to fetch it from the CRAN repository, download it, and install it.\n",
        "There are loads of R packages available on CRAN.\n",
        "\n",
        "Looking through the list, I notice that the `chron` package for managing datetime objects is not available.\n",
        "\n",
        "Let's try to install it using the `install.packages` function.\n",
        "Note that it is a good idea to also pass `TRUE` for dependencies to make certain we don't install a broken package."
      ]
    },
    {
      "cell_type": "code",
      "metadata": {
        "id": "lMSeQyzfe13P"
      },
      "source": [
        "install.packages(\"chron\", dependencies = TRUE)"
      ],
      "execution_count": null,
      "outputs": []
    },
    {
      "cell_type": "markdown",
      "metadata": {
        "id": "UVnlsfPVhCuc"
      },
      "source": [
        "Note that installing a packages simply makes it available to us; we still have to load the library into the current runtime to be able to use it."
      ]
    },
    {
      "cell_type": "code",
      "metadata": {
        "id": "CzbpUfWthK-C"
      },
      "source": [
        "library(\"chron\")"
      ],
      "execution_count": null,
      "outputs": []
    },
    {
      "cell_type": "markdown",
      "metadata": {
        "id": "WH-sAAC79V2f"
      },
      "source": [
        "If you aren't sure what the package does, you can alway evoke the R help documentation using the `help` command."
      ]
    },
    {
      "cell_type": "code",
      "metadata": {
        "id": "e94LTPd-9fvU"
      },
      "source": [
        "help(\"chron\")"
      ],
      "execution_count": null,
      "outputs": []
    },
    {
      "cell_type": "markdown",
      "metadata": {
        "id": "sV02Ni959sHH"
      },
      "source": [
        "Albeit, sometimes it's better to just search the web."
      ]
    },
    {
      "cell_type": "markdown",
      "metadata": {
        "id": "g1bTfcYjhRGg"
      },
      "source": [
        "### 0.4 The R Language\n",
        "\n",
        "The is a tremendous amount of information about R on the web, but your first port of call is likely to be the Comprehensive R Archive Network (CRAN) at\n",
        "\n",
        "* http://cran.r-project.org/\n",
        "\n",
        "where you can find links to software packages, documentation and getting started manuals.\n",
        "\n",
        "R also includes built-in examples and demos.\n",
        "See below for a few.\n",
        "\n",
        "(Once you run a code cell, you may have to scroll back up to see the outputs)"
      ]
    },
    {
      "cell_type": "code",
      "metadata": {
        "id": "_QmG841xEP0_"
      },
      "source": [
        "example(lm)"
      ],
      "execution_count": null,
      "outputs": []
    },
    {
      "cell_type": "code",
      "metadata": {
        "id": "rLYXjajdDIfm"
      },
      "source": [
        "demo(graphics)"
      ],
      "execution_count": null,
      "outputs": []
    },
    {
      "cell_type": "code",
      "metadata": {
        "id": "wxtSAwSVEt9u"
      },
      "source": [
        "demo(persp)"
      ],
      "execution_count": null,
      "outputs": []
    },
    {
      "cell_type": "markdown",
      "metadata": {
        "id": "OSJoVoJ2FOYz"
      },
      "source": [
        "You can use R as a calculator, including any of R's built-in functions, see the table below.\n",
        "\n",
        "| Function | Meaning |\n",
        "| :------- | :------ |\n",
        "| log(x) | log to base $e$ of $x$ |\n",
        "| exp(x) | antilog of $x$, (i.e. $e^x$) |\n",
        "| log(x, n) | log to base $n$ of $x$ |\n",
        "| log10(x) | log to base 10 of $x$ |\n",
        "| sqrt(x) | square root of $x$ |\n",
        "| factorial(x) | $x!$ |\n",
        "| choose(n,x) | binomial coefficients $n!/(x! (n-x)!)$ |\n",
        "| gamma(x) | $\\Gamma(x)$, for real $x (x-1)!$, for integer x |\n",
        "| lgamma(x) | natural log of $\\Gamma(x)$ |\n",
        "| floor(x) | greatest integer $< x$ |\n",
        "| ceiling(x) | smallest integer $> x$ |\n",
        "| trunc(x) | closest integer to $x$ between $x$ and 0 |\n",
        "| round(x, digits=0) | round the value of $x$ to an integer |\n",
        "| signif(x, digits=6) | give $x$ to six digits in scientific notation |\n",
        "| runif(n) | generates $n$ random numbers between 0 and 1 in uniform distribution |\n",
        "| cos(x) | cosine of $x$ in radians |\n",
        "| sin(x) | sine of $x$ in radians |\n",
        "| tan(x) | tangent of $x$ in radians |\n",
        "| acos(x); asin(x); atan(x) | inverse trigonometric transformations of real or complex numbers |\n",
        "| acosh(x); asinh(x); atanh(x) | inverse hyperbolic trigonometric transformations of real or complex numbers |\n",
        "| abs(x) | the absolute value of $x$ ignoring the minus sign if there is one |\n",
        "\n"
      ]
    },
    {
      "cell_type": "code",
      "metadata": {
        "id": "38Lez-2RGnNG"
      },
      "source": [
        "# Try them out for yourself!\n"
      ],
      "execution_count": null,
      "outputs": []
    },
    {
      "cell_type": "markdown",
      "metadata": {
        "id": "Av80hP96KSrb"
      },
      "source": [
        "Exponential calculations may be handled using either the caret notation:\n",
        "\n",
        "```R\n",
        "2^3\n",
        "```\n",
        "\n",
        "or you may use the Pythonic double-asterisk:\n",
        "\n",
        "```R\n",
        "2**3\n",
        "```\n",
        "\n",
        "Large numbers may be represented (or defined) using scientific notation, such as:\n",
        "\n",
        "```R\n",
        "1.2e3  # for 1,200\n",
        "```\n",
        "\n",
        "Integer quotients and remainders are obtained using the percent-divide-percent (%/%) and double-percent (%%) notations.\n",
        "For example, to find out how many 13's there are in 119, use:\n",
        "\n",
        "```R\n",
        "119 %/% 13  # ans 9\n",
        "```\n",
        "\n",
        "and to find the remainder (i.e., modulo):\n",
        "\n",
        "```R\n",
        "119 %% 13  # ans 2\n",
        "```\n",
        "\n",
        "You may come across infinity and things that are not a number.\n",
        "For example, if you try to divide by zero,\n",
        "\n",
        "```R\n",
        "3/0  # ans Inf\n",
        "```\n",
        "\n",
        "but if you try to divide zero by itself, you get R's `NaN` (not a number).\n",
        "\n",
        "Note that `NaN` is a special placeholder and several built-in functions allow you to find `NaN` values.\n",
        "\n",
        "One such function is the `is.na` function.\n",
        "\n",
        "```R\n",
        "is.na(0/0)  # ans TRUE\n",
        "```\n",
        "\n",
        "Don't confuse `NaN` with `NA` (not available or value missing).\n",
        "\n",
        "`NA`'s in your data will mess up your computations; however, several built-in R functions allow you to skip over `NA` values, for example:\n",
        "\n",
        "```R\n",
        "mean(c(1:8, NA))  # ans NA\n",
        "\n",
        "mean(c(1:8, NA), na.rm = TRUE)  # ans 4.5\n",
        "```\n",
        "\n",
        "Note that True and False are in all-caps (i.e., `TRUE` and `FALSE`) and may be represented in shorthand `T` and `F`."
      ]
    },
    {
      "cell_type": "code",
      "metadata": {
        "colab": {
          "base_uri": "https://localhost:8080/",
          "height": 34
        },
        "id": "95tcJXhrLgZ2",
        "outputId": "e89602b7-676e-4cf5-d914-fa2374d04d4d"
      },
      "source": [
        "isTRUE(is.na(0/0))"
      ],
      "execution_count": null,
      "outputs": [
        {
          "output_type": "display_data",
          "data": {
            "text/plain": [
              "[1] TRUE"
            ],
            "text/latex": "TRUE",
            "text/markdown": "TRUE",
            "text/html": [
              "TRUE"
            ]
          },
          "metadata": {
            "tags": []
          }
        }
      ]
    },
    {
      "cell_type": "markdown",
      "metadata": {
        "id": "h6YvzJ_I7hfb"
      },
      "source": [
        "Variable assignment in R can use either the left-pointing arrow, `<-` or the single equal sign `=`, but the arrow symbology is de-facto and thus recommended method for assigning variables.\n",
        "\n",
        "R operates on named data structures.\n",
        "The simplest such structure is the numeric vector, which is a single entity consisting of an ordered collection of numbers.\n",
        "\n",
        "Two ways to create a vector include the colon operator, `:`, between two values, such as the 11 integers from 0 to 10 given by:\n",
        "\n",
        "```R\n",
        "x <- 0:10\n",
        "```\n",
        "\n",
        "and the `c` function, which concatenates the arguments side-by-side into a vector, such as:\n",
        "\n",
        "```\n",
        "y <- c(8, 3, 5, 7, 6, 6, 8, 9, 2, 3, 9, 4, 10, 4, 11)\n",
        "```"
      ]
    },
    {
      "cell_type": "code",
      "metadata": {
        "id": "_Fv2Te8f7if3"
      },
      "source": [
        "# Try creating these vectors yourself\n"
      ],
      "execution_count": null,
      "outputs": []
    },
    {
      "cell_type": "markdown",
      "metadata": {
        "id": "22vbMgV2AWry"
      },
      "source": [
        "There are several vector function available in R.\n",
        "The table below lists some of them.\n",
        "\n",
        "| Operation | Meaning |\n",
        "| :-------- | :------ |\n",
        "| max(x) | maximum value in $x$ |\n",
        "| min(x) | minimum value in $x$ |\n",
        "| sum(x) | total of all the values in $x$ |\n",
        "| mean(x) | arithmetic average of the values in $x$ |\n",
        "| median(x) | median value in $x$ |\n",
        "| range(x) | vector of $\\min(x)$ and $\\max(x)$ |\n",
        "| var(x) | sample variance of $x$ |\n",
        "| cor(x, y) | correlation between vectors $x$ and $y$ |\n",
        "| sort(x) | a sorted version of $x$ |\n",
        "| rank(x) | vector of the ranks of the values in $x$ |\n",
        "| order(x) | an integer vector containing the permutation to sort x into ascending order |\n",
        "| quantile(x) | vector containing the minimum, lower quartile, median, upper quartile, and maximum of $x$ |\n",
        "| cumsum(x) | vector containing the sum of all of the elements up to that point |\n",
        "| cumprod(x) | vector containing the product of all of the elements up to that point |\n",
        "| cummax(x) | vector of non-decreasing numbers that are the cumulative maxima of the values in $x$ up to that point |\n",
        "| cummin(x) | vector of non-increasing numbers which are the cumulative minima of the values in $x$ up to that point |\n",
        "| pmax(x, y, z) | vector, of length equal to the longest of $x$, $y$ or $z$, containing the maximum of $x$, $y$ or $z$ for the $i$th position in each |\n",
        "| pmin(x, y, z) | vector, of length equal to the longest of $x$, $y$ or $z$, containing the minimum of $x$, $y$ or $z$ for the $i$th position in each |\n"
      ]
    },
    {
      "cell_type": "code",
      "metadata": {
        "id": "fZxC9EU6AZH9"
      },
      "source": [
        "# Try them out yourself\n"
      ],
      "execution_count": null,
      "outputs": []
    },
    {
      "cell_type": "markdown",
      "metadata": {
        "id": "lZ6K4tdSEkbO"
      },
      "source": [
        "Addressing within a vector is similar to Python and uses the square brackets.\n",
        "The difference is that R does not use zero indexing, so the first value of the vector is indexed at 1, for example,\n",
        "\n",
        "```R\n",
        "y <- c(8, 3, 5, 7, 6, 6, 8, 9, 2, 3, 9, 4, 10, 4, 11)\n",
        "y[1] # yields 8, not 3\n",
        "```\n",
        "\n",
        "Strangely, negative indexes return the vector with that negative index popped (i.e., removed) from the vector, such that the returned vector has length one less than the original.\n",
        "\n",
        "Logical operators help quickly filter and identify data within a vector.\n",
        "\n",
        "To find the vector addresses (or indices) that match a logical expression, you may use the `which` command, such as:\n",
        "\n",
        "```R\n",
        "which(y > 5)\n",
        "```\n",
        "\n",
        "However, it's unlikely that you care about indexes, so rather, you can directly pull the values from a vector that match the logical expression using,\n",
        "\n",
        "```R\n",
        "y[y>5]\n",
        "```\n",
        "\n",
        "which will give you a vector containing only values of `y` that are greater than 5."
      ]
    },
    {
      "cell_type": "markdown",
      "metadata": {
        "id": "00Ii4oTIHKUc"
      },
      "source": [
        "### 0.5 Stats Primer\n",
        "Recalling mean, variance, standard deviation and error.\n",
        "\n",
        "> The following comes from the R Book by Crawley (2007).\n",
        "\n",
        "#### 0.5.1 Mean\n",
        "\n",
        "There are several ways to calculate the mean for a given set of $n$ real numbers, whose value is based on a function, $y(x)$.\n",
        "For example, $y(x) = 3 x + 1$, for $x \\in [1, 10]$.\n",
        "Note that $n = 10$.\n",
        "\n",
        "<center><caption><strong>Table 0.1</strong> Example x and y parameter values.</caption></center>\n",
        "\n",
        "| Parameter | 1 | 2 | 3 | 4 | 5 | 6 | 7 | 8 | 9 | 10 |\n",
        "| :------- | --- | --- | --- | --- | --- | --- | --- | --- | --- | --- |\n",
        "| x | 0 | 0.5 | 1.0 | 1.5 | 2.0 | 2.5 | 3.0 | 3.5 | 4.0 | 4.5 |\n",
        "| y(x) | 1 | 2.5 | 4 | 5.5 | 7 | 8.5 | 10 | 11.5 | 13 | 14.5 |\n",
        "\n",
        "These methods include:\n",
        "\n",
        "1. Arithmetic mean, $\\bar y$\n",
        "  - The sum of numbers divided by the count of numbers, given by $\\frac{\\sum_{i=1}^{n} y(x_i)}{n}$\n",
        "  - The most common method for calculating the mean\n",
        "1. Geometric mean, $\\hat y$\n",
        "  - The $n$-th root of the product of numbers, given by $\\sqrt[n]{\\prod_{i=1}^{n} y(x_i)}$\n",
        "  - For processes that change multiplicatively rather than additively\n",
        "1. Harmonic mean, $\\tilde y$\n",
        "  - The reciprocal of the average of the reciprocals, given by $\\frac{n}{\\sum_{i=1}^{n} (1/y(x_i))}$\n",
        "  - For processes that change rates\n",
        "\n",
        "#### 0.5.2 Variance\n",
        "A measure of variability is perhaps the most important quantity in statistical analysis. \n",
        "The greater the variability in the data, the greater will be our uncertainty in the values of parameters estimated from the data.\n",
        "\n",
        "The variance of a sample is measured as a function of \"the sum of the squares of the difference between the data and the arithmetic mean,\" which is sometimes simply called the $\\underline{\\qquad}$ or even more simply, SS.\n",
        "\n",
        "Variance is defined as the ratio of the sum of the squares to the $\\underline{\\qquad}$ of our analysis and is given by the following expression.\n",
        "\n",
        "$$\n",
        "{\\rm variance,}\\, \\sigma^2 = \\frac{\\sum_{i=1}^{n} [y(x_i) - \\bar y]}{n - k} \n",
        "$$\n",
        "\n",
        "where $k$ is the number of unknown parameters in the analysis.\n",
        "Naturally, we know $x$, $y(x)$, and $n$, but we never know the sample mean, $\\bar y$, without actually calculating it from the data; therefore, $k = 1$ in this scenario.\n",
        "In the case of linear regression analysis, where you solve for the unknown slope and intercept of a line, $k=2$.\n",
        "\n",
        "### 0.5.3. Standard deviation \n",
        "The standard deviation, $\\sigma$, is simply the square root of the variance.\n",
        "\n",
        "$$\n",
        "\\sigma = \\sqrt{\\sigma^2}\n",
        "$$\n",
        "\n",
        "\n",
        "### 0.5.4 Standard Error\n",
        "Variance can be used for establishing measures of unreliability (e.g. confidence intervals).\n",
        "Unreliability is proportional to variance, in that as variability increases, so does the unreliability.\n",
        "When you consider sample size, $n$, unreliability is inversely proportional, in that as the sample size increases, unreliability diminishes.\n",
        "We can express this as:\n",
        "\n",
        "$$\n",
        "{\\rm unreliability} \\propto \\frac{\\sigma^2}{n}\n",
        "$$\n",
        "\n",
        "Unfortunately, variance is measured in square units about the mean, which does not come naturally when thinking about the unreliability of a process or dataset.\n",
        "Rather, we would like to maintain the units of the original dataset; therefore, the standard error of a process about its mean is given as:\n",
        "\n",
        "$$\n",
        "{\\rm s.e.}_{\\bar y} = \\sqrt{\\frac{\\sigma^2}{n}}\n",
        "$$\n",
        "\n"
      ]
    },
    {
      "cell_type": "markdown",
      "metadata": {
        "id": "bgtPJWbySHyG"
      },
      "source": [
        "**Exercise 0.1**\r\n",
        "\r\n",
        "Perform the following by referencing $y(x)$ from **Table 0.1** above.\r\n",
        "\r\n",
        "1. Calculate the three different means.\r\n",
        "1. Calculate the variance.\r\n",
        "1. Calculate the standard deviation.\r\n",
        "1. Calculate the standard error about the mean.\r\n",
        "\r\n",
        "For each of the operations above, create your own function that performs the operation based on the equations given and then see if there's a build-in R function that does the same computation and compare them."
      ]
    },
    {
      "cell_type": "markdown",
      "metadata": {
        "id": "vTDZvkJoO374"
      },
      "source": [
        "## 1. Introduction to Time Series\n",
        "\n",
        "### 1.1 Background\n",
        "A $\\underline{\\qquad}$ variable, $Y$, is a function defined on a sample space, $\\Omega$, whose range is the $\\underline{\\qquad}$, ${\\rm I\\!R}$.\n",
        "An $\\underline{\\qquad}$ of a random variable, $y=Y(\\omega)$ for a given $\\omega \\in \\Omega$, is also a real number.\n",
        "\n",
        "A $\\underline{\\qquad}$ process is a collection of random variables $\\{Y(\\omega); \\omega \\in \\Omega \\}$ where all random variables are defined on the same sample space.\n",
        "When this shared sample space represents $\\underline{\\qquad}$, $T$, then the stochastic process---which can now be written as $X(t); t \\in T$---is referred to as a $\\underline{\\qquad}$.\n",
        "\n",
        "Note that the sample space, $T$, whose range is the real numbers, may be represented as either $\\underline{\\qquad}$, for example $T = (-\\infty, \\infty)$, or $\\underline{\\qquad}$, for example $T = \\{0, \\pm1, \\pm2, ...\\}$.\n",
        "A $\\underline{\\qquad}$ of a time series, $x(t); t \\in T$, is the set of values that result from the occurrence of some observed event.\n",
        "The collection of all possible realizations, $\\{ x(t) \\}$, is called the $\\underline{\\qquad}$.\n",
        "\n",
        "Note that the $\\underline{\\qquad}$ for a stochastic process is the ensemble mean, $E[Y(t)]$.\n",
        "It represents the mean of all realizations at a specified $t$ and is denoted $\\mu_t$.\n",
        "It should be pointed out that this type of averaging is along the $\\underline{\\qquad}$ (i.e., vertical axis) and is computed across all realizations for a given $t$. This is in contrast to the more traditional averaging along the $\\underline{\\qquad}$ (i.e., horizontal axis), which is computed for all values $t$ for a given realization.\n",
        "\n",
        "Of particular interest in time series analysis is the $\\underline{\\qquad}$ between $X(t_1)$ and $X(t_2)$ for values $t_1, t_2 \\in T$.\n",
        "Because this covariance is within the same time series, it is called $\\underline{\\qquad}$ and is given by the following expression.\n",
        "\n",
        "$$\n",
        "\\gamma(t_1, t_2) = E\\{[X(t_1) - \\mu(t_1)][X(t_2) - \\mu(t_2)]\\}\n",
        "$$\n",
        "\n",
        "This definition can be extended to include the $\\underline{\\qquad}$ of a time series, which is given by the following expression.\n",
        "\n",
        "$$\n",
        "\\rho(t_1, t_2) = \\frac{\\gamma(t_1, t_2)}{\\sigma(t_1)\\, \\sigma(t_2)}\n",
        "$$\n",
        "\n",
        "where $\\sigma$ is the standard deviation of the ensemble at a given $t$."
      ]
    },
    {
      "cell_type": "markdown",
      "metadata": {
        "id": "Uk5q9GfcvBvA"
      },
      "source": [
        "**Example 1.1:** \n",
        "A time series with two realizations\n",
        "\n",
        "Consider the following stochastic process:\n",
        "\n",
        "$$\n",
        "Y(t) = \\sin(t + \\phi)\n",
        "$$\n",
        "\n",
        "where $Y(t); t \\in (-\\infty, \\infty)$ and there is a 50% probability of $\\phi = 0$ and a 50% probability of $\\phi = \\pi/2$.\n",
        "\n",
        "This process has only two possible realizations.\n",
        "Together these make up the $\\underline{\\qquad}$.\n",
        "\n",
        "1. If $\\phi = 0$, then: $Y(t) = \\sin(t)$\n",
        "1. If $\\phi = \\pi/2$, then: $Y(t) = \\sin(t + \\pi/2)$\n",
        "\n",
        "The expected value of this process can be written based on the probabilities of these two outcomes:\n",
        "\n",
        "$$\n",
        "E[Y(t)] = 0.5 \\left[ \\sin(t)  \\right] + 0.5 \\left[ \\sin(t + \\pi/2) \\right]\n",
        "$$\n",
        "\n",
        "Note the unusual circumstance that the expected value of the ensemble changes depending on $t$.\n",
        "Thus the ensemble mean is notated $\\mu_t$ to signify the dependence on $t$.\n"
      ]
    },
    {
      "cell_type": "markdown",
      "metadata": {
        "id": "AfWC0Pe3PMhe"
      },
      "source": [
        "**Exercise 1.1**\r\n",
        "\r\n",
        "1. Calculate the missing values in the following table.\r\n",
        "    You may ignore the values in the first row (these were adding to fix column width issues).\r\n",
        "\r\n",
        "| $t$         | $\\mu_t$          | $\\gamma(t, 0)$   | $\\rho(t, \\pi)$   |\r\n",
        "| ----------: | ---------------: | ---------------: | ---------------: |\r\n",
        "| ----------- | ---------------- | ---------------- | ---------------- |\r\n",
        "| 0 | ? | ? | ? |\r\n",
        "| $\\pi/4$ | ? | ? | ? |\r\n",
        "| $\\pi/2$ | ? | ? | ? |\r\n",
        "| $3 \\pi/4$ | ? | ? | ? |\r\n",
        "| $\\pi$ | ? | ? | ? |\r\n",
        "\r\n",
        "2. Calculate the mean for the realization $Y(t) = \\sin(t + \\pi / 2)$ for $t \\in (0, 100)$.\r\n",
        "\r\n",
        "3. What is the difference between the ensemble mean and the mean of a given realization?\r\n",
        "\r\n",
        "4. Add the missing time series to the plot given below.\r\n",
        "    Make the line dashed blue to match the legend."
      ]
    },
    {
      "cell_type": "code",
      "metadata": {
        "colab": {
          "base_uri": "https://localhost:8080/",
          "height": 437
        },
        "id": "a4jBDBq6zQ4c",
        "outputId": "114fa8ad-1237-421c-b6b3-85537ca86c7b"
      },
      "source": [
        "# Create a sequence to 100 and scale values to (0, 25)\n",
        "t <- c(0:100)\n",
        "t <- t * 25/100\n",
        "\n",
        "# Define the time series\n",
        "Yt1 <- sin(t)\n",
        "\n",
        "# Plot our time series\n",
        "plot(\n",
        "  t, \n",
        "  Yt1, \n",
        "  ylim = c(-1.1, 1.25), \n",
        "  type = \"l\", \n",
        "  col = \"red\", \n",
        "  lwd = 1, \n",
        "  lty = 1, \n",
        "  xlab = \"Time\", \n",
        "  ylab = NA\n",
        ")\n",
        "\n",
        "legend(\n",
        "  \"top\", \n",
        "  inset=0.01, \n",
        "  col=c(\"red\",\"blue\"), \n",
        "  lty=c(1,2), \n",
        "  lwd=c(1,1), \n",
        "  legend = c(\n",
        "    expression(sin(t)),\n",
        "    expression(sin(t+pi/2))), \n",
        "  bg=\"white\",\n",
        "  box.col=\"white\",\n",
        "  horiz=TRUE\n",
        ")"
      ],
      "execution_count": null,
      "outputs": [
        {
          "output_type": "display_data",
          "data": {
            "image/png": "[encoded data removed]",
            "text/plain": [
              "plot without title"
            ]
          },
          "metadata": {
            "tags": [],
            "image/png": {
              "width": 420,
              "height": 420
            }
          }
        }
      ]
    },
    {
      "cell_type": "markdown",
      "metadata": {
        "id": "nN2nW1BlRsNW"
      },
      "source": [
        "## X - See Also\r\n",
        "- [Google Colab - Quick Guide](https://www.tutorialspoint.com/google_colab/google_colab_quick_guide.htm)\r\n",
        "- [History and Overview of R](https://bookdown.org/rdpeng/rprogdatascience/history-and-overview-of-r.html) by Roger Peng \r\n",
        "- [R Nuts and Bolts](https://bookdown.org/rdpeng/rprogdatascience/r-nuts-and-bolts.html) by Roger Peng\r\n"
      ]
    }
  ]
}