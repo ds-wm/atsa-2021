{
  "nbformat": 4,
  "nbformat_minor": 0,
  "metadata": {
    "colab": {
      "name": "rays1024_lab1.ipynb",
      "provenance": [],
      "collapsed_sections": [],
      "toc_visible": true
    },
    "kernelspec": {
      "name": "ir",
      "display_name": "R"
    }
  },
  "cells": [
    {
      "cell_type": "markdown",
      "metadata": {
        "id": "9Ix3zBbypvZ7"
      },
      "source": [
        "# Introduction\n",
        " This project will be based on the work *Time-Series Study of Associations between Rates of People Affected by Disasters and the El Niño Southern Oscillation (ENSO) Cycle* by Holly Ching Yu Lam, Andy Haines, Glenn McGregor, Emily Ying Yang Chan, and Shakoor Hajat. In the paper, Lam et al. aim at examining the annual relationships between El Niño years and PAD rates. To find the relationships, researchers perform time series regression analysis exploring the connection between ONI & MEI and PAD rates, through which they discover an annual relationship between the data. To conclude their findings, PAD rates were significantly higher during El Niño years, and the disasters typically include storms and floods. \n",
        "\n",
        "We will investigate ENSO indices and perform analysis on three time series: people affected by disaster(PAD) rates per 1000, Ocean Niño Index(ONI) and multivariate El Niño Index(MEI). (Lam et al., 2019) In addition, we will also perform time series analysis on Southern Oscillation Index(SOI), which may possess similar pattern as the time series data that were examined by Lam et al.(Climatic Research Unit, 2019)\n",
        "\n",
        "\n",
        "\n"
      ]
    },
    {
      "cell_type": "markdown",
      "metadata": {
        "id": "Ubaxxj3rpz86"
      },
      "source": [
        "# Methods"
      ]
    },
    {
      "cell_type": "markdown",
      "metadata": {
        "id": "PAlBfhUpMhR0"
      },
      "source": [
        "### **Installing Packages**\n"
      ]
    },
    {
      "cell_type": "markdown",
      "metadata": {
        "id": "G_J2C5CfGDNA"
      },
      "source": [
        "For our projcet, the only package we will be using for time series analysis is the \"tswge\" package as shown below."
      ]
    },
    {
      "cell_type": "code",
      "metadata": {
        "colab": {
          "base_uri": "https://localhost:8080/"
        },
        "id": "qnsJlV1gxZoy",
        "outputId": "44adace1-b533-47f9-d429-be8f1bc30b2d"
      },
      "source": [
        "install.packages(\"tswge\")\n",
        "library(\"tswge\")"
      ],
      "execution_count": 1,
      "outputs": [
        {
          "output_type": "stream",
          "text": [
            "Installing package into ‘/usr/local/lib/R/site-library’\n",
            "(as ‘lib’ is unspecified)\n",
            "\n"
          ],
          "name": "stderr"
        }
      ]
    },
    {
      "cell_type": "markdown",
      "metadata": {
        "id": "nUDeK7tFMpIp"
      },
      "source": [
        "### **Loading Datasets**"
      ]
    },
    {
      "cell_type": "markdown",
      "metadata": {
        "id": "6ZeGhHKAGSnn"
      },
      "source": [
        "We downloaded the datasets required for our analysis and converted them into \".csv\" files through RStudio. Then, we uploaded all .csv files to the \"File\" section of Google Colab."
      ]
    },
    {
      "cell_type": "markdown",
      "metadata": {
        "id": "Pq1PUyJaM4_f"
      },
      "source": [
        "Links to datasets:\n",
        "1. ONI: https://psl.noaa.gov/data/correlation/oni.data\n",
        "1. MEI: https://psl.noaa.gov/enso/mei/data/meiv2.data\n",
        "1. PAD: https://public.emdat.be/data\n",
        "1. POP: https://data.worldbank.org/indicator/SP.POP.TOTL\n",
        "1. SOI: https://crudata.uea.ac.uk/cru/data/soi/\n"
      ]
    },
    {
      "cell_type": "code",
      "metadata": {
        "id": "llwnQFW9DZQO"
      },
      "source": [
        "PAD.raw<-read.csv(file='/content/emdat_public_2021_03_05_query_uid-y24A75.csv',header=TRUE,skip=6)\n",
        "POP.raw<-read.csv(file='/content/API_SP.POP.TOTL_DS2_en_csv_v2_2106202.csv')\n",
        "ONI<-read.csv(file='/content/ONI.csv')\n",
        "MEI<-read.csv(file='mei.csv')\n",
        "SOI<-read.csv(file='soi.csv')"
      ],
      "execution_count": 2,
      "outputs": []
    },
    {
      "cell_type": "markdown",
      "metadata": {
        "id": "ZHCnn-BBGwPm"
      },
      "source": [
        "Here, we select specific columns of data that we are interested in and create subsets from the raw data."
      ]
    },
    {
      "cell_type": "code",
      "metadata": {
        "id": "dbemsXI1FIpg"
      },
      "source": [
        "PAD<-subset(PAD.raw,select=c(ISO,Start.Year,Total.Deaths,Total.Affected))\n",
        "POP<-subset(POP.raw,select=-c(Indicator.Name,Indicator.Code))"
      ],
      "execution_count": 3,
      "outputs": []
    },
    {
      "cell_type": "markdown",
      "metadata": {
        "id": "_AhXZcKXHEjQ"
      },
      "source": [
        "### **Processing ONI Dataframe**\n",
        "According to Lam et al., they use only the trimonthly average ONI data to perform time series analysis, so we subset the column of data out of the original dataset, which contains trimonthly averages for every month in a year. Then, we remove data from 1950 to 1963 and 2018 to 2021, since Lam et al. only focus on data from 1964 to 2017."
      ]
    },
    {
      "cell_type": "code",
      "metadata": {
        "id": "Kjf-feQoEv4m"
      },
      "source": [
        "ONI.DJF<-ONI[ONI$SEAS=='DJF',]\n",
        "ONI.DJF<-ONI.DJF[-c(1:14,69:72),]\n",
        "ONI.ts <- ts(ONI.DJF$ANOM, start = 1964,end=2017, frequency = 1) "
      ],
      "execution_count": 4,
      "outputs": []
    },
    {
      "cell_type": "markdown",
      "metadata": {
        "id": "lo0SIy7uH14q"
      },
      "source": [
        "### **Processing MEI Dataframe**\n",
        "Lam et al. use only the bimonthly average MEI data to perform time series analysis, so we subset the column of data out of the original dataset, which contains bimonthly averages for every month in a year. We also create a time series for all monthly data in MEI for our analysis."
      ]
    },
    {
      "cell_type": "code",
      "metadata": {
        "id": "19xZvzrhgLtY"
      },
      "source": [
        "MEI.DJ<-MEI[-c(1:14),'DECJAN']\n",
        "MEI<-MEI[-c(1:14),c(1:ncol(MEI))]"
      ],
      "execution_count": 5,
      "outputs": []
    },
    {
      "cell_type": "code",
      "metadata": {
        "id": "Xt7Obi1fkcsr"
      },
      "source": [
        "#Converting the MEI.DJ and MEI.all vector to a time series.\n",
        "MEI.ts <- ts(MEI.DJ, start = 1964, frequency = 1) \n",
        "MEI.all<-as.vector(t(MEI[,2:ncol(MEI)]))\n",
        "MEI_all.ts<-ts(MEI.all, start = c(1964,1), frequency = 12)"
      ],
      "execution_count": 6,
      "outputs": []
    },
    {
      "cell_type": "markdown",
      "metadata": {
        "id": "dfHmaPMbIDHm"
      },
      "source": [
        "### **Processing PAD Dataframe**\n",
        "Here, we apply the conditions Lam et al. use to select disaster events. The conditions are : (1) those that caused 10 deaths or more; (2) those that affected 100 people or more. Before we process the data, we first need to replace all \"NA\" values with 0's so that the calculation later will not yield null results."
      ]
    },
    {
      "cell_type": "code",
      "metadata": {
        "id": "aMbgGikAlx4J"
      },
      "source": [
        "PAD[is.na(PAD)] <- 0\n",
        "list<-c()\n",
        "for (i in 1:nrow(PAD)){\n",
        "  if (PAD[i,'Total.Affected']<100){\n",
        "    list<-c(list,i)\n",
        "  }\n",
        "}\n",
        "list<-c()\n",
        "for (i in 1:nrow(PAD)){\n",
        "  if (PAD[i,'Total.Deaths']<10){\n",
        "    list<-c(list,i)\n",
        "  }\n",
        "}"
      ],
      "execution_count": 7,
      "outputs": []
    },
    {
      "cell_type": "markdown",
      "metadata": {
        "id": "Gjwwxmv9I_h1"
      },
      "source": [
        "Since the rows of PAD dataframe contains the number of people affected by year and countries, we need to aggregate the total with respect to year. From the following lines, we produce a total for each year from 1964 to 2017 and create a new dataframe with \"no_affected\" vector and a year vector."
      ]
    },
    {
      "cell_type": "code",
      "metadata": {
        "id": "aUZkNrRSokv3"
      },
      "source": [
        "no_affected<-c()\n",
        "for (i in 1964:2017){\n",
        "  sum=0\n",
        "  for (r in 1:nrow(PAD)){\n",
        "    if (PAD[r,'Start.Year']==i){\n",
        "      sum=sum+PAD[r,'Total.Affected']\n",
        "    }\n",
        "  }\n",
        "  no_affected<-c(no_affected,sum)\n",
        "}\n"
      ],
      "execution_count": null,
      "outputs": []
    },
    {
      "cell_type": "code",
      "metadata": {
        "id": "s4daWAKn4JTu"
      },
      "source": [
        "PAD.rate<-data.frame(c(1964:2017),no_affected)\n",
        "colnames(PAD.rate)<-c('Year','Total.Affected')"
      ],
      "execution_count": null,
      "outputs": []
    },
    {
      "cell_type": "markdown",
      "metadata": {
        "id": "RzCaBYwkJ-j6"
      },
      "source": [
        "Below, we remove years of data we do not need from POP dataframe and replace all \"NA\" with 0's to avoid errors in calculations. "
      ]
    },
    {
      "cell_type": "code",
      "metadata": {
        "id": "FpLHBN-h5dOq"
      },
      "source": [
        "POP<-POP[,-c(3:6,61:62)]\n",
        "POP[is.na(POP)] <- 0\n"
      ],
      "execution_count": null,
      "outputs": []
    },
    {
      "cell_type": "markdown",
      "metadata": {
        "id": "fmCceXyoKQZP"
      },
      "source": [
        "The following lines produce a population vector with each element being the population sum of countries appeared in PAD dataframe in a given year. We did not include any countries that were not in PAD or POP."
      ]
    },
    {
      "cell_type": "code",
      "metadata": {
        "id": "a278yXjD5JZa"
      },
      "source": [
        "pop<-c()\n",
        "for (i in 1964:2017){\n",
        "  sum=0\n",
        "  countries<-c()\n",
        "  for (r in 1:nrow(PAD)){\n",
        "    if (PAD[r,'Start.Year']==i){\n",
        "        countries<-c(countries,PAD[r,'ISO'])  \n",
        "    }\n",
        "  }\n",
        "  countries<-unique(countries)\n",
        "  for (item in countries){\n",
        "    if (any(POP$Country.Code==item)==TRUE){\n",
        "      sum=sum+POP[which(POP$Country.Code==item),paste0('X',i)]\n",
        "    }\n",
        "  }\n",
        "  pop<-c(pop,sum)\n",
        "}"
      ],
      "execution_count": null,
      "outputs": []
    },
    {
      "cell_type": "markdown",
      "metadata": {
        "id": "5FHVg8c9KxPi"
      },
      "source": [
        "We append the population vector to PAD.rate dataframe and calculate the PAD rates per 1000 people. We then convert the rates vector to a time series."
      ]
    },
    {
      "cell_type": "code",
      "metadata": {
        "id": "3NA-NDIBPv9B"
      },
      "source": [
        "PAD.rate$Population=pop\n",
        "PAD.rate$Rates=PAD.rate$Total.Affected/PAD.rate$Population*1000"
      ],
      "execution_count": null,
      "outputs": []
    },
    {
      "cell_type": "code",
      "metadata": {
        "id": "co9LkzF0Vcx5"
      },
      "source": [
        "PADrate.ts <- ts(PAD.rate$Rates, start = 1964,end=2017, frequency = 1) "
      ],
      "execution_count": null,
      "outputs": []
    },
    {
      "cell_type": "markdown",
      "metadata": {
        "id": "69Dl6YLILA-L"
      },
      "source": [
        "### **Processing SOI Dataframe**\n",
        "Here we aggregate values in rows from 1964 to 2017, turning them into a vector, and convert it to a time series."
      ]
    },
    {
      "cell_type": "code",
      "metadata": {
        "id": "e1GCvbIlu-jp"
      },
      "source": [
        "colnames(SOI)<-c(1:12)\n",
        "SOI.all<-as.vector(t(SOI[99:152,1:12]))\n",
        "SOI.ts <- ts(SOI.all, start = c(1964,1), frequency = 12) "
      ],
      "execution_count": null,
      "outputs": []
    },
    {
      "cell_type": "markdown",
      "metadata": {
        "id": "-0LZqGR2p21S"
      },
      "source": [
        "# Results"
      ]
    },
    {
      "cell_type": "markdown",
      "metadata": {
        "id": "z-QlOdGJMZlF"
      },
      "source": [
        "### **Reproducing Fiqure 1**\n"
      ]
    },
    {
      "cell_type": "code",
      "metadata": {
        "id": "Pe-pXvwJRR7v"
      },
      "source": [
        "par(mfrow=c(3,1))\n",
        "plot(PADrate.ts, main=\"PAD rate (per 1000)  1964-2017\",type='p',xlab='Year',ylab='PAD')\n",
        "plot(ONI.ts, main=\"ONI in Dec-Feb 1964-2017\",type='p',xlab='Year',ylab='ONI')\n",
        "abline(0.5,0, lty=2)\n",
        "abline(-0.5,0, lty=2)\n",
        "abline(0,0, lty=1)\n",
        "plot(MEI.ts, main=\"MEI in Dec-Jan 1964-2017\",type='p',xlab='Year',ylab='MEI')\n",
        "abline(0.5,0, lty=2)\n",
        "abline(-0.5,0, lty=2)\n",
        "abline(0,0, lty=1)"
      ],
      "execution_count": null,
      "outputs": []
    },
    {
      "cell_type": "markdown",
      "metadata": {
        "id": "6paNoUkqW12L"
      },
      "source": [
        "### **ONI Time Series Analysis**"
      ]
    },
    {
      "cell_type": "code",
      "metadata": {
        "id": "CQXRfYMXhPCe"
      },
      "source": [
        "ONI_plot<-plotts.sample.wge(ONI$ANOM)\n",
        "ONI_plot$freq[which.max(ONI_plot$db)]"
      ],
      "execution_count": null,
      "outputs": []
    },
    {
      "cell_type": "markdown",
      "metadata": {
        "id": "MteuJBs8Yx_i"
      },
      "source": [
        "The plots above shows that ONI is a stationary time series without seaonality. From the Sample Autocorrelations plot, we see autocorrelations taper off as number of lag increases. The Spectrail Density plot shows a peak at around $f=0.01$, which indicates that it is aperiodic or has a very long period. The dominant frequency is at $f=0.02345$, which yields a periodic behavior of 43 months, and the next dominant frequncy is around $f=0.12$. "
      ]
    },
    {
      "cell_type": "markdown",
      "metadata": {
        "id": "vASgj1GwXAK9"
      },
      "source": [
        "### **MEI Time Series Analysis**"
      ]
    },
    {
      "cell_type": "code",
      "metadata": {
        "id": "o_W65UbghS_O"
      },
      "source": [
        "MEI_plot<-plotts.sample.wge(MEI_all.ts)\n",
        "MEI_plot$freq[which.max(MEI_plot$db)]"
      ],
      "execution_count": null,
      "outputs": []
    },
    {
      "cell_type": "markdown",
      "metadata": {
        "id": "G6QySSIqc4Jv"
      },
      "source": [
        "The plots above shows that MEI is also a stationary time series without seaonality. In addition, it has a very similar shape as ONI. From the Sample Autocorrelations plot, we see autocorrelations taper off as number of lag increases. The Spectrail Density plot shows a peak at around $f=0.01$, which indicates that it is aperiodic or has a very long period. The dominant frequency is at $f=0.02315$, which yields a periodic behavior of 43 months, and the next dominant frequncy is around $f=0.17$. "
      ]
    },
    {
      "cell_type": "markdown",
      "metadata": {
        "id": "ZZsR_GOYXDr8"
      },
      "source": [
        "### **PAD Rates Time Series Analysis**"
      ]
    },
    {
      "cell_type": "code",
      "metadata": {
        "id": "SfiNQSZiQ0vo"
      },
      "source": [
        "PAD_plot<-plotts.sample.wge(PAD.rate$Rates)\n",
        "PAD_plot$freq[which.max(PAD_plot$db)]"
      ],
      "execution_count": null,
      "outputs": []
    },
    {
      "cell_type": "markdown",
      "metadata": {
        "id": "yy8Nmkk4dQxJ"
      },
      "source": [
        "The plots above shows that PAD rate could be a non-stationary time series since it seems to be increasing over time. From the Sample Autocorrelations plot, we see autocorrelations taper off after lag 0. The plots also show a periodic behavoir. The dominant frequency is at $f=0.4630$, which yields a periodic behavior of 2.15 years, and the next dominant frequncy is around $f=0.27$. "
      ]
    },
    {
      "cell_type": "markdown",
      "metadata": {
        "id": "T8Hv56mRXG3M"
      },
      "source": [
        "### **SOI Time Series Analysis**"
      ]
    },
    {
      "cell_type": "code",
      "metadata": {
        "id": "Mr2eZEaswCeo"
      },
      "source": [
        "SOI_plot<-plotts.sample.wge(SOI.ts)\n",
        "SOI_plot$freq[which.max(SOI_plot$db)]"
      ],
      "execution_count": null,
      "outputs": []
    },
    {
      "cell_type": "markdown",
      "metadata": {
        "id": "t6TuKN9xfHF7"
      },
      "source": [
        "Similar to ONI and MEI, the plots above shows that SOI is a stationary time series without seasonality. From the Sample Autocorrelations plot, we see autocorrelations taper off after as the number of lags increases. The dominant frequency is at $f=0.02315$, which yields a periodic behavior of 43 years, and the next dominant frequncy is around $f=0.11$. "
      ]
    },
    {
      "cell_type": "markdown",
      "metadata": {
        "id": "UFrEPg19uZdw"
      },
      "source": [
        "### **Identifying El Niño Years**\n",
        "\n",
        "In the following lines, we create a subset of ONI.DJF and assign a value of 0 to all values less than 0.5, and a value of 1 to all other values. Then we display a talbe of El Niño years."
      ]
    },
    {
      "cell_type": "code",
      "metadata": {
        "id": "TBOlpw_nst7Z"
      },
      "source": [
        "ONI_STND<-ONI.DJF[,-c(1,3)]\n",
        "for (i in 1:nrow(ONI_STND)){\n",
        "  if (ONI_STND[i,2]>=0.5){\n",
        "    ONI_STND[i,2]=1\n",
        "  } else {\n",
        "    ONI_STND[i,2]=0\n",
        "  }\n",
        "}\n",
        "ONI_STND"
      ],
      "execution_count": null,
      "outputs": []
    },
    {
      "cell_type": "markdown",
      "metadata": {
        "id": "Ym7jds1yp5dx"
      },
      "source": [
        "# Discussion and Conclusions"
      ]
    },
    {
      "cell_type": "markdown",
      "metadata": {
        "id": "dJ7_snCjvDhy"
      },
      "source": [
        "### **Dominant Frequencies of ONI, MEI, and SOI**\n",
        "\n",
        "Since the additional dataset, SOI, records similar event as ONI and MEI, they all yield a dominant frequency of around 0.0234, which calculated to be a period of 43 months or 3.58 years."
      ]
    },
    {
      "cell_type": "markdown",
      "metadata": {
        "id": "UhcZxg_tjQTK"
      },
      "source": [
        "### **El Niño Years**\n",
        "\n",
        "From the metrics descriped in the paper, any year with a index value greater than 0.5 is an El Niño year. From Figure 1 that we reproduced, we can see that El Niño event is most significant in the mid-60s, -70s, -80s, -90s. In addition, it seems from the El Niño years table that the event occur for around every 3 or 4 years, which match with the period of 43 months calculated from the dominant frequencies of ONI, MEI, and SOI."
      ]
    },
    {
      "cell_type": "markdown",
      "metadata": {
        "id": "LeIB8llov6qo"
      },
      "source": [
        "### **Conclusion**\n",
        "\n",
        "Over the course of this project, we conduct time series analysis on ENSO and PAD data and find El Niño years. For analyzing time series data, we use sample autocorrelation, periodogram, time series plot, and Parzen window. We are able to obtain the dominant frequency, periodic behavior, and stationarity for each time series and use them to identify El Niño years. Furthermore, we standardize the ONI values from December to February by assigning 0's and 1's to the dataframe and generating a table for a direct approximation. The result matches with the period we calculate in time seris analyses.\n",
        "\n",
        "However, the relationship between PAD rates and El Niño years is not very clear and more steps of analysis could be taken to further reveal the relationship. \n",
        "\n",
        "One of the challenges in this project is to aggregate population by countries and years. During calculations, the lines of code would often return null values ( numeric(0) ) and there had been much time spent debugging."
      ]
    },
    {
      "cell_type": "markdown",
      "metadata": {
        "id": "Y89MwbENp9th"
      },
      "source": [
        "# References\n",
        "\n",
        "EM-DAT Public. (2021). https://public.emdat.be/\n",
        "\n",
        "Lam, H. C. Y., Haines, A., McGregor, G., Chan, E. Y. Y., & Hajat, S. (2019). Time-Series Study of Associations between Rates of People Affected by Disasters and the El Niño Southern Oscillation (ENSO) Cycle. International Journal of Environmental Research and Public Health, 16(17), 3146. https://www.mdpi.com/1660-4601/16/17/3146/htm#B24-ijerph-16-03146\n",
        "\n",
        "Population, total | Data. (2019). The World Bank. https://data.worldbank.org/indicator/SP.POP.TOTL\n",
        "\n",
        "Southern Oscillation Index (SOI) data. (2019). https://crudata.uea.ac.uk/cru/data/soi/\n",
        "\n",
        "Team, C. I. (2020). Climate Prediction Center - ONI. Climate Prediction Center. https://origin.cpc.ncep.noaa.gov/products/analysis_monitoring/ensostuff/ONI_v5.php\n",
        "\n",
        "Team, P. W. (2021). MEI.v2: NOAA Physical Sciences Laboratory. Physical Sciences Laboratory. https://psl.noaa.gov/enso/mei/\n",
        "\n"
      ]
    },
    {
      "cell_type": "code",
      "metadata": {
        "id": "8E3oQgEA0tYg"
      },
      "source": [
        ""
      ],
      "execution_count": null,
      "outputs": []
    }
  ]
}