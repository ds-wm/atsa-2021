{
  "nbformat": 4,
  "nbformat_minor": 0,
  "metadata": {
    "colab": {
      "name": "Copy of atsaipynb",
      "provenance": [],
      "collapsed_sections": [
        "Kf2pvKRzNhrK"
      ],
      "toc_visible": true
    },
    "kernelspec": {
      "name": "ir",
      "display_name": "R"
    }
  },
  "cells": [
    {
      "cell_type": "markdown",
      "metadata": {
        "id": "koWkJHP7HKQ8"
      },
      "source": [
        "### Applied Time Series Analysis - Lab 1 \r\n",
        "Peter Woo\r\n",
        "\r\n",
        "March 3, 2021\r\n",
        "\r\n"
      ]
    },
    {
      "cell_type": "markdown",
      "metadata": {
        "id": "Kf2pvKRzNhrK"
      },
      "source": [
        "##Summary\r\n",
        "\r\n",
        "This paper aims to explore whether natural disasters around the globe, measured by People Affected by Natural Disasters (PAD), is related to the El Nino Southern Oscillation, measured by Multivariate ENSO index (MEI) and the Oceanic Nino Index (ONI). They did this by analyzing three disaster types and three regions using data from an emergency events database (EM-DAT) and applying time series regression techniques to characterize its annual relationships between ONI and MEI. They concluded that to some degree, ENSO is correlated with “climate-related hazards” and “health burdens.” With this information, they believe they can flag countries that they found to be more at risk during El Nino events given that El Nino events have been accurately predicted in the past. By doing this they may be able to aid countries in need in forecasting natural disasters and minimizing the potential damage. \r\n"
      ]
    },
    {
      "cell_type": "markdown",
      "metadata": {
        "id": "HPLitpWOR7FF"
      },
      "source": [
        "## Reproducing figure 1 from the paper\r\n"
      ]
    },
    {
      "cell_type": "markdown",
      "metadata": {
        "id": "vEf1nwSmNbVJ"
      },
      "source": [
        "### ONI Data"
      ]
    },
    {
      "cell_type": "code",
      "metadata": {
        "id": "nGRrMmJbL1a1"
      },
      "source": [
        "# Import the necessary packages\r\n",
        "install.packages('tswge')\r\n",
        "library('tswge')\r\n",
        "# Download the data\r\n",
        "oni.url <- \"https://www.cpc.ncep.noaa.gov/data/indices/oni.ascii.txt\"\r\n",
        "oni.name <- tail(unlist(strsplit(oni.url, \"/\")), n=1)\r\n",
        "oni.file <- paste(\"/tmp/\", oni.name, sep=\"\")\r\n",
        "download.file(oni.url, oni.file, method = 'auto')\r\n",
        "# Turn the data into a dataframe\r\n",
        "oni.df <- read.table(oni.file, header = TRUE)\r\n",
        "# Subset the data to find the values in figure 1 of the paper\r\n",
        "target_oni.df <- oni.df[which((oni.df$YR < 2018) & (1963 < oni.df$YR) & (oni.df$SEAS == 'DJF')), names(oni.df) %in% c('YR', 'ANOM') ]\r\n",
        "# Make the plot\r\n",
        "plot(\r\n",
        "    target_oni.df,\r\n",
        "    main = \"ONI in Dec-Feb 1964-2017\",\r\n",
        "    ylim = c(-1.1, 2.1),\r\n",
        "    type = 'p',\r\n",
        "    xlab = 'Year',\r\n",
        "    ylab = 'ONI'\r\n",
        ")\r\n",
        "# Add in the horizontal lines\r\n",
        "abline(h=0.0)\r\n",
        "abline(h=0.5, lty = 2)\r\n",
        "abline(h=-0.5, lty = 2)\r\n"
      ],
      "execution_count": null,
      "outputs": []
    },
    {
      "cell_type": "markdown",
      "metadata": {
        "id": "fOMhxdNGNi5C"
      },
      "source": [
        "### MEI Data"
      ]
    },
    {
      "cell_type": "code",
      "metadata": {
        "id": "O4-H32us2jd7"
      },
      "source": [
        "# Download the data\r\n",
        "mei.url <- \"https://psl.noaa.gov/enso/mei.old/table.html\"\r\n",
        "mei.name <- tail(unlist(strsplit(mei.url, \"/\")), n=1)\r\n",
        "mei.file <- paste(\"/tmp/\", mei.name, sep=\"\")\r\n",
        "download.file(mei.url, mei.file, method = 'auto')\r\n",
        "# Turn the data into a dataframe\r\n",
        "a <- readLines(mei.file)\r\n",
        "for (my.line in a){\r\n",
        "  a <- grep(\"^YEAR.*\", my.line)\r\n",
        "  if (length(a) > 0) {\r\n",
        "    my.cols <- unlist(strsplit(my.line, \"\\\\s+\"))\r\n",
        "  }\r\n",
        "}\r\n",
        "n.cols <- length(my.cols)\r\n",
        "mei.df <- data.frame(matrix(ncol = n.cols, nrow = 0))\r\n",
        "colnames(mei.df) <- my.cols \r\n",
        "a <- readLines(mei.file)\r\n",
        "for (my.line in a){\r\n",
        "  a <- grep(\"^[0-9].*\", my.line)\r\n",
        "  if (length(a) > 0) {\r\n",
        "    my.data <- unlist(strsplit(my.line, \"\\\\s+\"))\r\n",
        "    num.data <- length(my.data)\r\n",
        "    if (num.data == n.cols) {\r\n",
        "      my.values <- c()\r\n",
        "      for (d in my.data) {\r\n",
        "        my.values <- append(my.values, as.numeric(d))\r\n",
        "      }\r\n",
        "      mei.df[nrow(mei.df)+1,] = my.values\r\n",
        "    }\r\n",
        "  }\r\n",
        "}\r\n",
        "# Subset the data to reproduce the plot from the paper\r\n",
        "target_mei.df <- mei.df[which((mei.df$YEAR < 2018) & (1963 < mei.df$YEAR)), names(mei.df) %in% c('YEAR', 'DECJAN')]\r\n",
        "# Create the plot\r\n",
        "plot(\r\n",
        "    target_mei.df,\r\n",
        "    main = \"MEI in Dec-Jan 1964-2017\",\r\n",
        "    ylim = c(-1.1, 2.1),\r\n",
        "    type = 'p',\r\n",
        "    xlab = 'Year',\r\n",
        "    ylab = 'MEI'\r\n",
        ")\r\n",
        "# Add in the horizontal lines\r\n",
        "abline(h=0.0)\r\n",
        "abline(h=0.5, lty = 2)\r\n",
        "abline(h=-0.5, lty = 2)"
      ],
      "execution_count": null,
      "outputs": []
    },
    {
      "cell_type": "markdown",
      "metadata": {
        "id": "fkrg5u2SNnAD"
      },
      "source": [
        "### PAD Data"
      ]
    },
    {
      "cell_type": "code",
      "metadata": {
        "id": "eHrEMjy0Rcno"
      },
      "source": [
        "# Import the PAD data from local tmp file\r\n",
        "pad.file <- \"/tmp/emdat_public.csv\"\r\n",
        "pad.df.all <- read.csv(pad.file, header=TRUE, skip=6)\r\n",
        "cols.interest <- c(\"Country\", \"ISO\", \"Start.Year\", \"Start.Month\", \r\n",
        "                   \"End.Year\", \"End.Month\", \"Total.Affected\")\r\n",
        "# Create a dataframe\r\n",
        "pad.df <- pad.df.all[cols.interest]"
      ],
      "execution_count": null,
      "outputs": []
    },
    {
      "cell_type": "code",
      "metadata": {
        "id": "MFwvRHc8FfZC",
        "colab": {
          "base_uri": "https://localhost:8080/",
          "height": 51
        },
        "outputId": "0c8643ea-3e8a-4f1a-f9a0-f3748cbf8c7f"
      },
      "source": [
        "# Import the worldbank dataframe to match with the PAD dataset\r\n",
        "wbank.url <- \"http://api.worldbank.org/v2/en/indicator/SP.POP.TOTL?downloadformat=csv\"\r\n",
        "wbank.name <- \"world_bank.zip\"\r\n",
        "wbank.file <- paste(\"/tmp/\", wbank.name, sep=\"\")\r\n",
        "download.file(wbank.url, wbank.file)\r\n",
        "unzip(zipfile = wbank.file, exdir = \"/tmp\")\r\n",
        "my.file <- \"\"\r\n",
        "for (tmp.file in list.files(\"/tmp\")){\r\n",
        "  a <- grep(\"^API_SP.POP.TOTL.*csv\", tmp.file)\r\n",
        "  if (length(a) > 0) {\r\n",
        "    my.file <- tmp.file\r\n",
        "  }\r\n",
        "}\r\n",
        "print(my.file)\r\n",
        "wb.file <- paste(\"/tmp/\", my.file, sep=\"\")\r\n",
        "wb.df <- read.csv(wb.file, header = TRUE, skip = 4)\r\n",
        "length(unique(wb.df$Country.Code))\r\n",
        "for (i in 1:nrow(pad.df)) {\r\n",
        "  tmp.iso <- pad.df[i, ][['ISO']]\r\n",
        "  tmp.year <- pad.df[i, ][['Start.Year']]\r\n",
        "  tmp.col <- paste(\"X\", tmp.year, sep=\"\")\r\n",
        "  a <- match(tmp.iso, wb.df$Country.Code)\r\n",
        "  if (!is.na(a)) {\r\n",
        "    tmp.pop <- wb.df[,tmp.col][a]\r\n",
        "    pad.df[i, 'POP'] = tmp.pop\r\n",
        "  } else {\r\n",
        "    pad.df[i, 'POP'] = NA\r\n",
        "  }\r\n",
        "}"
      ],
      "execution_count": null,
      "outputs": [
        {
          "output_type": "stream",
          "text": [
            "[1] \"API_SP.POP.TOTL_DS2_en_csv_v2_2106202.csv\"\n"
          ],
          "name": "stdout"
        },
        {
          "output_type": "display_data",
          "data": {
            "text/plain": [
              "[1] 264"
            ],
            "text/latex": "264",
            "text/markdown": "264",
            "text/html": [
              "264"
            ]
          },
          "metadata": {
            "tags": []
          }
        }
      ]
    },
    {
      "cell_type": "code",
      "metadata": {
        "colab": {
          "base_uri": "https://localhost:8080/",
          "height": 437
        },
        "id": "nnKQCbT-iZwf",
        "outputId": "e5c07722-db9d-41fa-c49d-ae96a55567d5"
      },
      "source": [
        "# Create a loop to calculate PAD per 1000\r\n",
        "final_pad.vect <- character()\r\n",
        "for (years in unique(pad.df$Start.Year)) {\r\n",
        "  my.tmp.pad <- subset(pad.df, Start.Year == years)\r\n",
        "  pad.tmp <- 0\r\n",
        "  for (i in 1:nrow(my.tmp.pad)){\r\n",
        "    if (!is.na(my.tmp.pad$Total.Affected[i]) & !is.na(my.tmp.pad$POP[i])){\r\n",
        "      my.ta <- my.tmp.pad$Total.Affected[i]\r\n",
        "      pad.tmp <- pad.tmp + my.ta\r\n",
        "    }\r\n",
        "  }\r\n",
        "  pop.tmp <- 0\r\n",
        "  for (my.iso in unique(my.tmp.pad$ISO)){\r\n",
        "    a <- match(my.iso, my.tmp.pad$ISO)\r\n",
        "    temp.pop <- my.tmp.pad$POP[a]\r\n",
        "    if (!is.na(temp.pop)){\r\n",
        "      pop.tmp <- pop.tmp + temp.pop\r\n",
        "    }\r\n",
        "  }\r\n",
        "  fin_pad <- pad.tmp/pop.tmp*1000\r\n",
        "  final_pad.vect <- c(final_pad.vect, fin_pad)\r\n",
        "# Join the vector of PAD per 1000 values with years\r\n",
        "yrs <- c(1964:2017)\r\n",
        "final_pad.df <- data.frame(as.numeric(yrs), final_pad.vect)\r\n",
        "# Create the plot\r\n",
        "plot(\r\n",
        "    final_pad.df,\r\n",
        "    main = \"PAD (per 1000) 1964-2017\",\r\n",
        "    ylim = c(0, 170),\r\n",
        "    type = 'p',\r\n",
        "    xlab = 'Year',\r\n",
        "    ylab = 'PAD'\r\n",
        ")"
      ],
      "execution_count": null,
      "outputs": [
        {
          "output_type": "display_data",
          "data": {
            "image/png": "[encoded data removed]",
            "text/plain": [
              "Plot with title “PAD (per 1000) 1964-2017”"
            ]
          },
          "metadata": {
            "tags": [],
            "image/png": {
              "width": 420,
              "height": 420
            }
          }
        }
      ]
    },
    {
      "cell_type": "markdown",
      "metadata": {
        "id": "15ke_EiiRyqk"
      },
      "source": [
        "## Correct/Process data into time series, investigate data\r\n"
      ]
    },
    {
      "cell_type": "markdown",
      "metadata": {
        "id": "PgvOQXgmSrMp"
      },
      "source": [
        "### ONI Data"
      ]
    },
    {
      "cell_type": "code",
      "metadata": {
        "id": "vVBO16bVRy9N"
      },
      "source": [
        "# Turn the data into a time series\r\n",
        "oni.ts <- ts(oni.df$ANOM, start = c(1950, 1), frequency = 12) \r\n",
        "# Create the plot and add a legend\r\n",
        "plot(oni.ts, type = 'l', xlab = 'Years', ylab = 'ONI',)\r\n",
        "legend(\"top\", inset = 0.01, lty = 1, lwd = 1, legend = 'Oceanic Nino Index')\r\n",
        "# Calculate the autocorrelation and autocovariance\r\n",
        "acf(oni.ts, type= 'correlation', plot = TRUE)\r\n",
        "acf(oni.ts, type= 'covariance', plot = TRUE)"
      ],
      "execution_count": null,
      "outputs": []
    },
    {
      "cell_type": "code",
      "metadata": {
        "id": "aC5JJ8vgbIBh"
      },
      "source": [
        "# For the periodogram and the parzen window plot\r\n",
        "plotts.sample.wge(oni.ts)"
      ],
      "execution_count": null,
      "outputs": []
    },
    {
      "cell_type": "markdown",
      "metadata": {
        "id": "JmCl5ugIbvZQ"
      },
      "source": [
        "From the plot, we can see that there is variability in the peaks of the realizations meaning there is variability in the magnitude and that this time series may be pseudo-periodic. The plot of the autocorrelation function demonstrates a peak at lag = 0, implying that the ONI of one year depends very strongly on the ONI of the previous/next year. There is a decay in correlation when the lags increase, and it starts to rise again around 2.0. \r\n",
        "   From the periodogram we can also observe that the freuquency peaks somewhere between 0 and 0.1, decreases until 0.3, and starts to increase again. The fact that there is a peak around f = 0 indicates that there is either a very long period or aperiodic behavior. "
      ]
    },
    {
      "cell_type": "code",
      "metadata": {
        "colab": {
          "base_uri": "https://localhost:8080/",
          "height": 50
        },
        "id": "jIRqz1gEMTnu",
        "outputId": "f11fcdaa-0ce0-47ba-cabd-087e88e9142a"
      },
      "source": [
        "#Calculate the dominant frequenct\r\n",
        "prdgram <- period.wge(oni.ts, dbcalc = TRUE, plot = FALSE)$pgram\r\n",
        "domfreq_ONI <- period.wge(oni.ts, dbcalc = TRUE, plot = FALSE)$freq[which.max(prdgram)]\r\n",
        "domfreq_ONI\r\n",
        "#Calculate the period in years\r\n",
        "(1/domfreq_ONI)/12"
      ],
      "execution_count": null,
      "outputs": [
        {
          "output_type": "display_data",
          "data": {
            "text/plain": [
              "[1] 0.02344666"
            ],
            "text/latex": "0.0234466588511137",
            "text/markdown": "0.0234466588511137",
            "text/html": [
              "0.0234466588511137"
            ]
          },
          "metadata": {
            "tags": []
          }
        },
        {
          "output_type": "display_data",
          "data": {
            "text/plain": [
              "[1] 3.554167"
            ],
            "text/latex": "3.55416666666667",
            "text/markdown": "3.55416666666667",
            "text/html": [
              "3.55416666666667"
            ]
          },
          "metadata": {
            "tags": []
          }
        }
      ]
    },
    {
      "cell_type": "markdown",
      "metadata": {
        "id": "WKqoPGlBNMsI"
      },
      "source": [
        "The dominant frequency is 0.023. To examine the period in years, we calculate the inverse of this and divide by 12. The resulting value is 3.55 years.\r\n",
        "\r\n"
      ]
    },
    {
      "cell_type": "markdown",
      "metadata": {
        "id": "yj9_B-Z9Su3_"
      },
      "source": [
        "### MEI Data"
      ]
    },
    {
      "cell_type": "code",
      "metadata": {
        "id": "U1QXHQcnSIhz"
      },
      "source": [
        "# Turn dataframe into a time series\r\n",
        "mei.ts <- ts(as.vector(t(mei.df[,2:length(my.cols)])), start = c(1950, 1), frequency = 12)\r\n",
        "# Create a plot and add in the legned\r\n",
        "plot(mei.ts, xlab = 'Years', ylab = 'MEI',)\r\n",
        "legend(\"top\", inset = 0.01, lty = 1, lwd = 1, legend = 'Multivariate ENSO Index')\r\n",
        "# Create the plots\r\n",
        "acf(mei.ts, type= 'correlation', plot = TRUE)\r\n",
        "acf(mei.ts, type= 'covariance', plot = TRUE)\r\n",
        "plotts.sample.wge(mei.ts)"
      ],
      "execution_count": null,
      "outputs": []
    },
    {
      "cell_type": "markdown",
      "metadata": {
        "id": "VvsUhxuROOct"
      },
      "source": [
        "The behavior of the MEi dataset is very similar to ONI, since they are both measuring the same thing (ENSO). There is variability in the peaks in that in constantly increases. The shapes of the periodogram and the plots of the autocorrelation/autocovariance functions are very similar to the previous ONI plots. The difference however is that there is not an increase in decibels by the end around the 0.3 mark.  "
      ]
    },
    {
      "cell_type": "code",
      "metadata": {
        "id": "bVIQ2s3Hlg5u"
      },
      "source": [
        "# Dominant frequency\r\n",
        "mei.prdgram <- period.wge(mei.ts, dbcalc = TRUE, plot = FALSE)$pgram\r\n",
        "domfreq_MEI <-period.wge(mei.ts, dbcalc = TRUE, plot = FALSE)$freq[which.max(mei.prdgram)]\r\n",
        "# Period in years\r\n",
        "domfreq_MEI\r\n",
        "(1/domfreq_MEI)/12"
      ],
      "execution_count": null,
      "outputs": []
    },
    {
      "cell_type": "markdown",
      "metadata": {
        "id": "2Rp-U6RIlogl"
      },
      "source": [
        "The dominant frequency is 0.025, and the period is around 3.57."
      ]
    },
    {
      "cell_type": "markdown",
      "metadata": {
        "id": "XAMCn8quIBzf"
      },
      "source": [
        "### PAD Data"
      ]
    },
    {
      "cell_type": "code",
      "metadata": {
        "id": "K_GeC6-2TEg4"
      },
      "source": [
        "# Turn the dataset into a time series\r\n",
        "pad.ts <- ts(final_pad.df$final_pad.vect, start = c(1964, 1), frequency = 1)\r\n",
        "# Plot the data\r\n",
        "plot(pad.ts, main = 'PAD(per 1000) 1964-2017)', xlab = 'Year', ylab =  'PAD')\r\n",
        "legend(\"top\", inset = 0.01, lty = 1, lwd = 1, legend = 'People Affected by Disaster (per 1000)')\r\n",
        "# Create plots for analysis\r\n",
        "pad.ts.num <- as.numeric(pad.ts)\r\n",
        "acf(pad.ts.num, type= 'correlation', plot = TRUE)\r\n",
        "acf(pad.ts.num, type= 'covariance', plot = TRUE)\r\n",
        "plotts.sample.wge(pad.ts.num)"
      ],
      "execution_count": null,
      "outputs": []
    },
    {
      "cell_type": "markdown",
      "metadata": {
        "id": "rkmQGAWuQOGv"
      },
      "source": [
        "Looking at the plot of the realizations, there is again variantion in the peaks. There seems to be somewhat of a cycle every 15 to 20 years between the peaks. The periodogram shows that there is a peak around 0.2 and 0.4, meaning that there is a predominant period of about 5 and 2.5 years. The sample autrocorrelations graph peaks at 0 and immediatly dips down to a very small value, and there seems to be no other significant points."
      ]
    },
    {
      "cell_type": "code",
      "metadata": {
        "id": "GCZptbc-QNvC"
      },
      "source": [
        "# Calculate the dominant frequency\r\n",
        "pad.prdgram <- period.wge(pad.ts.num, dbcalc = TRUE, plot = FALSE)$pgram\r\n",
        "domfreq_PAD <-period.wge(pad.ts.num, dbcalc = TRUE, plot = FALSE)$freq[which.max(pad.prdgram)]\r\n",
        "# Calculate eriod in years\r\n",
        "domfreq_PAD\r\n",
        "(1/domfreq_PAD)"
      ],
      "execution_count": null,
      "outputs": []
    },
    {
      "cell_type": "markdown",
      "metadata": {
        "id": "AkLrEBn-TdBp"
      },
      "source": [
        "The dominant frequency is 0.2, and the period is 4.5 years. The smoothed parzen window plot shows another significant frequency at around 0.42, which equates to around 2.4 years. "
      ]
    },
    {
      "cell_type": "markdown",
      "metadata": {
        "id": "L6a4BEoHTD5N"
      },
      "source": [
        "## Identifying El Ni&ntilde;o years in the dataset"
      ]
    },
    {
      "cell_type": "markdown",
      "metadata": {
        "id": "Y3u1gGZUydxf"
      },
      "source": [
        "According to the paper, the definition of an El nino event is when ONI > .5 for at least 5 consecutive overlapping 3-month periods during July-June."
      ]
    },
    {
      "cell_type": "code",
      "metadata": {
        "colab": {
          "base_uri": "https://localhost:8080/",
          "height": 34
        },
        "id": "9olXmuHLfjRH",
        "outputId": "3b198966-98cf-4e5d-8478-fa3bf0dbf8d6"
      },
      "source": [
        "# Subset the dataset to match the time frame \r\n",
        "oni.sub <- oni.df[which(oni.df$YR < 2018 & oni.df$YR > 1963),]\r\n",
        "# Create a list of El Nino years\r\n",
        "oni.sub$event <- oni.sub$ANOM > 0.5\r\n",
        "oni.sub$ovrlap <- sequence(rle(as.character(oni.sub$event))$lengths)\r\n",
        "nino_years <- oni.sub$YR[which(oni.sub$event == TRUE & oni.sub$ovrlap == 5)]\r\n",
        "nino_years"
      ],
      "execution_count": null,
      "outputs": [
        {
          "output_type": "display_data",
          "data": {
            "text/plain": [
              " [1] 1965 1969 1969 1972 1977 1978 1982 1987 1991 1995 1997 2002 2004 2007 2009\n",
              "[16] 2015"
            ],
            "text/latex": "\\begin{enumerate*}\n\\item 1965\n\\item 1969\n\\item 1969\n\\item 1972\n\\item 1977\n\\item 1978\n\\item 1982\n\\item 1987\n\\item 1991\n\\item 1995\n\\item 1997\n\\item 2002\n\\item 2004\n\\item 2007\n\\item 2009\n\\item 2015\n\\end{enumerate*}\n",
            "text/markdown": "1. 1965\n2. 1969\n3. 1969\n4. 1972\n5. 1977\n6. 1978\n7. 1982\n8. 1987\n9. 1991\n10. 1995\n11. 1997\n12. 2002\n13. 2004\n14. 2007\n15. 2009\n16. 2015\n\n\n",
            "text/html": [
              "<style>\n",
              ".list-inline {list-style: none; margin:0; padding: 0}\n",
              ".list-inline>li {display: inline-block}\n",
              ".list-inline>li:not(:last-child)::after {content: \"\\00b7\"; padding: 0 .5ex}\n",
              "</style>\n",
              "<ol class=list-inline><li>1965</li><li>1969</li><li>1969</li><li>1972</li><li>1977</li><li>1978</li><li>1982</li><li>1987</li><li>1991</li><li>1995</li><li>1997</li><li>2002</li><li>2004</li><li>2007</li><li>2009</li><li>2015</li></ol>\n"
            ]
          },
          "metadata": {
            "tags": []
          }
        }
      ]
    },
    {
      "cell_type": "markdown",
      "metadata": {
        "id": "Qjkpu7l5hP2Q"
      },
      "source": [
        "From this list, we see that during the time period specified by the paper there were 15 distinct El Nino years. On average, El Nino events seem to happen around every 3 or 4 years."
      ]
    },
    {
      "cell_type": "markdown",
      "metadata": {
        "id": "5jKsO6D_TbF9"
      },
      "source": [
        "## Another Time Series Dataset\r\n"
      ]
    },
    {
      "cell_type": "markdown",
      "metadata": {
        "id": "YKKHWV4yyZ4X"
      },
      "source": [
        "The time series I will be looking at is the leaf and bloom dates dataset provided by the EPA. This time series looks at the how leaf and bloom dates of honeysuckles and lilacs deviate from the average between 1981 to 2010.  "
      ]
    },
    {
      "cell_type": "code",
      "metadata": {
        "id": "G1a7AgMX5kTZ"
      },
      "source": [
        "# Import dataet\r\n",
        "bloom.url <- \"https://www.epa.gov/sites/production/files/2016-08/leaf-bloom_fig-1.csv\"\r\n",
        "bloom.name <- tail(unlist(strsplit(bloom.url, \"/\")), n=1)\r\n",
        "bloom.file <- paste(\"/tmp/\", bloom.name, sep=\"\")\r\n",
        "download.file(bloom.url, bloom.file, method = 'auto')\r\n",
        "# Create a time series for \r\n",
        "bloom.df.all <- read.csv(bloom.file, header=TRUE, skip=6) \r\n",
        "bloom.ts <- ts(bloom.df.all$Bloom.Mean, start = c(1900,1), frequency = 1)\r\n",
        "# Create a plot and add the legend\r\n",
        "plot(\r\n",
        "  bloom.ts,\r\n",
        "  xlab = 'Years',\r\n",
        "  ylab = 'Deviation from 1980-2010 average (in days)',\r\n",
        "  type = 'l',\r\n",
        ")\r\n",
        "abline(h = 0, lty = 2)\r\n",
        "legend(\r\n",
        "  \"bottom\", \r\n",
        "  inset=0.01, \r\n",
        "  lty=c(1,2), \r\n",
        "  lwd=c(1,1), \r\n",
        "  legend = c(\r\n",
        "    'bloom date',\r\n",
        "    '1981-2010 average'),\r\n",
        "  bg=\"white\",\r\n",
        "  box.col=\"white\",\r\n",
        "  horiz=TRUE\r\n",
        ")\r\n",
        "# Create plots for analysis\r\n",
        "plotts.sample.wge(bloom.ts)"
      ],
      "execution_count": null,
      "outputs": []
    },
    {
      "cell_type": "markdown",
      "metadata": {
        "id": "zMN0E7fudZrp"
      },
      "source": [
        "The plot of the realizations do not display any visible seasonality or patterns. The autocorrelation function shows a peak at zero and a steep decline to a small value right after, and does not show any other significant points afterwards. This most likely signifies that this dataset is aperiodic or has a very long period. The periodogram does not display any significant points either. "
      ]
    },
    {
      "cell_type": "markdown",
      "metadata": {
        "id": "nRZns8_IgvMs"
      },
      "source": [
        "## Conclusion"
      ]
    },
    {
      "cell_type": "markdown",
      "metadata": {
        "id": "vXcr3Ud8KhU-"
      },
      "source": [
        "In this lab, I was able to take data described in the study on the relationship between El Nino and people affected by disasters into R and analyze it. For the ONI and MEI data, it was only a matter of subsetting the data, creating the plot, and adding in the horizontal lines like the ones from the paper. For the PAD per 1000 plot, I had to take data from the EM-DAT and from Worldbank, integrate the two so that I can get the PAF in units per 1000. \r\n",
        "Next, I used tools we’ve used in class to further analyze the data. I used the `plotts.sample.wge()` function and the `acf()` function to examine the autocorrelation plot, autocovariance plot, and the periodogram. Both the functions were very useful and worked very well.The `plotts.sample.wge` function was particularly useful, since passing the time series into this single function outputted 4 different plots that were all important to my analysis. \r\n",
        "Then, I identified El Nino events with the specifications given in the study.\r\n",
        "Finally, I imported a dataset I chose, the leaf and bloom dataset provided by the EPA and analyzed it with the same tools. \r\n",
        "\r\n",
        "There were quite a few challenges throughout the lab. The biggest challenge was calculating the PAD per 1000, since it involved taking two datasets and joining them together. All of the other datasets I could simply subset to find the target data, but the extra steps necessary in calculating the PAD per 1000 data was very difficult.\r\n",
        "\r\n",
        "I was able to overcome these obstacles through some meeting with Professor Davis and looking up what I wanted to accomplish on Google. Stackoverflow had a lot of helpful information, and I eventually was able to get the code running the way I wanted it to. \r\n",
        "\r\n"
      ]
    },
    {
      "cell_type": "markdown",
      "metadata": {
        "id": "0YriHF9dK_Db"
      },
      "source": [
        "## References"
      ]
    },
    {
      "cell_type": "markdown",
      "metadata": {
        "id": "0L30O7ZOLBm5"
      },
      "source": [
        "Environmental Protection Agency. Climate change indicators: Leaf and bloom dates. 2016. Retrieved March 06, 2021, from https://www.epa.gov/climate-indicators/climate-change-indicators-leaf-and-bloom-dates\r\n",
        "\r\n",
        "Lam, H. C. Y., Haines, A., McGregor, G., Chan, E. Y. Y., & Hajat, S.  Time-Series Study of Associations between Rates of People Affected by Disasters and the El Niño Southern Oscillation (ENSO) Cycle. 2019. International Journal of Environmental Research and Public Health, 16(17), 3146. MDPI AG. Retrieved from http://dx.doi.org/10.3390/ijerph16173146\r\n",
        "\r\n"
      ]
    }
  ]
}